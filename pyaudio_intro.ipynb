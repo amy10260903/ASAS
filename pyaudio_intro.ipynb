{
 "cells": [
  {
   "cell_type": "markdown",
   "metadata": {},
   "source": [
    "<font color = black >\n",
    "# <center>pyaudio handouts</center>\n",
    "<font color = black>\n",
    "## <center>2017.5.8</center>\n",
    "    \n",
    "---"
   ]
  },
  {
   "cell_type": "markdown",
   "metadata": {},
   "source": [
    "## Introduction to python"
   ]
  },
  {
   "cell_type": "markdown",
   "metadata": {},
   "source": [
    "<font color=blue >\n",
    "- Python\n",
    "    \n",
    "<font color=black>\n",
    " > Python is one of the most popular programming languages for data science. "
   ]
  },
  {
   "cell_type": "markdown",
   "metadata": {},
   "source": [
    "<font color=blue>\n",
    "- Environment Setup\n",
    "\n",
    "<font color=black>\n",
    "> The easiest way to setting up a Python environment is to install the Anaconda for Python 3. Anaconda bundles all the useful Python packages for data science, math and engineering."
   ]
  },
  {
   "cell_type": "markdown",
   "metadata": {},
   "source": [
    "<font color=blue>\n",
    "- Package Management \n",
    "    \n",
    "<font color=black>\n",
    "> You can manage your Python package by typing the following in the command-line:"
   ]
  },
  {
   "cell_type": "markdown",
   "metadata": {},
   "source": [
    "<font color=blue>\n",
    "- Open Lab and Run Code\n",
    " \n",
    "<font color=black>\n",
    "> Jupyter Notebook exists to develop open-source software, open-standards, and services for interactive computing across dozens of programming languages. Jupyter notebook allows you to create documents that contain Python code, LATEX and descriptive text.\n",
    "To open Jupyter Notebook, open the Anaconda and click the launch for Jupyte Notebook or typing \"jupyter notebook\" in the command-line"
   ]
  },
  {
   "cell_type": "markdown",
   "metadata": {},
   "source": [
    "## Basics of python"
   ]
  },
  {
   "cell_type": "markdown",
   "metadata": {},
   "source": [
    "<font color=blue>\n",
    "### Hello world!"
   ]
  },
  {
   "cell_type": "code",
   "execution_count": 53,
   "metadata": {},
   "outputs": [
    {
     "name": "stdout",
     "output_type": "stream",
     "text": [
      "Hello world!\n"
     ]
    }
   ],
   "source": [
    "print(\"Hello world!\")"
   ]
  },
  {
   "cell_type": "markdown",
   "metadata": {},
   "source": [
    "<font color=blue>\n",
    "### Basic data types"
   ]
  },
  {
   "cell_type": "markdown",
   "metadata": {},
   "source": [
    "> Numbers:\n"
   ]
  },
  {
   "cell_type": "code",
   "execution_count": 54,
   "metadata": {},
   "outputs": [
    {
     "name": "stdout",
     "output_type": "stream",
     "text": [
      "5\n",
      "<class 'int'>\n"
     ]
    }
   ],
   "source": [
    "x = 5\n",
    "print(x)\n",
    "print(type(x))"
   ]
  },
  {
   "cell_type": "code",
   "execution_count": 55,
   "metadata": {},
   "outputs": [
    {
     "name": "stdout",
     "output_type": "stream",
     "text": [
      "6\n",
      "4\n",
      "10\n",
      "2.5\n",
      "25\n"
     ]
    }
   ],
   "source": [
    "print(x + 1)  # Addition\n",
    "print(x - 1)  # Substraction\n",
    "print(x * 2)  # Multiplication\n",
    "print(x / 2)  # Division\n",
    "print(x ** 2) # Exponentiation"
   ]
  },
  {
   "cell_type": "code",
   "execution_count": 56,
   "metadata": {},
   "outputs": [
    {
     "name": "stdout",
     "output_type": "stream",
     "text": [
      "6\n",
      "12\n"
     ]
    }
   ],
   "source": [
    "x += 1\n",
    "print(x)\n",
    "\n",
    "x *= 2\n",
    "print(x)"
   ]
  },
  {
   "cell_type": "code",
   "execution_count": 57,
   "metadata": {},
   "outputs": [
    {
     "name": "stdout",
     "output_type": "stream",
     "text": [
      "<class 'float'>\n",
      "3.5\n",
      "1.5\n",
      "5.0\n",
      "1.25\n",
      "6.25\n"
     ]
    }
   ],
   "source": [
    "y = 2.5\n",
    "\n",
    "print(type(y))\n",
    "print(y + 1)  # Addition\n",
    "print(y - 1)  # Substraction\n",
    "print(y * 2)  # Multiplication\n",
    "print(y / 2)  # Division\n",
    "print(y ** 2) # Exponentiation"
   ]
  },
  {
   "cell_type": "markdown",
   "metadata": {},
   "source": [
    "> Booleans:\n"
   ]
  },
  {
   "cell_type": "code",
   "execution_count": 58,
   "metadata": {},
   "outputs": [
    {
     "name": "stdout",
     "output_type": "stream",
     "text": [
      "<class 'bool'>\n",
      "False\n",
      "True\n",
      "True\n",
      "True\n",
      "False\n"
     ]
    }
   ],
   "source": [
    "T = True \n",
    "F = False\n",
    "\n",
    "print(type(T))\n",
    "\n",
    "print(T and F)\n",
    "print(T or F)\n",
    "print(not F)\n",
    "print(T != F)\n",
    "print(T == F)"
   ]
  },
  {
   "cell_type": "markdown",
   "metadata": {},
   "source": [
    "> Strings:"
   ]
  },
  {
   "cell_type": "code",
   "execution_count": 59,
   "metadata": {},
   "outputs": [
    {
     "name": "stdout",
     "output_type": "stream",
     "text": [
      "hello\n",
      "<class 'str'>\n",
      "5\n"
     ]
    }
   ],
   "source": [
    "h = 'hello'\n",
    "w = 'world'\n",
    "\n",
    "print(h)\n",
    "print(type(h))\n",
    "print(len(h))\n"
   ]
  },
  {
   "cell_type": "code",
   "execution_count": 60,
   "metadata": {},
   "outputs": [
    {
     "name": "stdout",
     "output_type": "stream",
     "text": [
      "hello world\n",
      "hello world world\n"
     ]
    }
   ],
   "source": [
    "hw = h + ' ' + w\n",
    "hww = h + ' ' + w + ' ' + w\n",
    "\n",
    "print(hw)\n",
    "print(hww)"
   ]
  },
  {
   "cell_type": "code",
   "execution_count": 61,
   "metadata": {},
   "outputs": [
    {
     "name": "stdout",
     "output_type": "stream",
     "text": [
      "hello world 123\n"
     ]
    }
   ],
   "source": [
    "hw123 = '%s %s %d' %(h, w, 123)\n",
    "\n",
    "print(hw123)"
   ]
  },
  {
   "cell_type": "markdown",
   "metadata": {},
   "source": [
    "\n",
    "\n",
    "\n",
    "<font color=blue>\n",
    "### Containers"
   ]
  },
  {
   "cell_type": "markdown",
   "metadata": {},
   "source": [
    "> Lists:"
   ]
  },
  {
   "cell_type": "code",
   "execution_count": 62,
   "metadata": {},
   "outputs": [
    {
     "name": "stdout",
     "output_type": "stream",
     "text": [
      "[1, 2, 3, 4, 5]\n",
      "1\n",
      "2\n",
      "5\n",
      "4\n",
      "True\n",
      "False\n"
     ]
    }
   ],
   "source": [
    "x = [1, 2, 3, 4, 5]\n",
    "\n",
    "print(x)\n",
    "print(x[0])\n",
    "print(x[1])\n",
    "print(x[-1])\n",
    "print(x[-2])\n",
    "print(1 in x)\n",
    "print(6 in x)"
   ]
  },
  {
   "cell_type": "code",
   "execution_count": 63,
   "metadata": {},
   "outputs": [
    {
     "name": "stdout",
     "output_type": "stream",
     "text": [
      "[1, 2, 'hello', 4, 5]\n"
     ]
    }
   ],
   "source": [
    "x[2] = 'hello'\n",
    "\n",
    "print(x)"
   ]
  },
  {
   "cell_type": "code",
   "execution_count": 64,
   "metadata": {},
   "outputs": [
    {
     "name": "stdout",
     "output_type": "stream",
     "text": [
      "[1, 2, 'hello', 4, 5, 123]\n",
      "[1, 2, 'hello', 4, 5]\n",
      "[2, 'hello', 4, 5]\n"
     ]
    }
   ],
   "source": [
    "x.append(123)\n",
    "print(x)\n",
    "\n",
    "x.pop()\n",
    "print(x)\n",
    "\n",
    "x.pop(0)\n",
    "print(x)"
   ]
  },
  {
   "cell_type": "code",
   "execution_count": 65,
   "metadata": {},
   "outputs": [
    {
     "name": "stdout",
     "output_type": "stream",
     "text": [
      "[1, 2, 3]\n",
      "[3, 4, 5]\n",
      "[1, 2, 3]\n",
      "[1, 2, 3, 4, 5]\n",
      "[1, 2, 3, 4]\n",
      "[5, 4, 3, 2, 1]\n"
     ]
    }
   ],
   "source": [
    "x = [1, 2, 3, 4, 5]\n",
    "\n",
    "print(x[0:3])\n",
    "print(x[2:])\n",
    "print(x[:3])\n",
    "print(x[:])\n",
    "print(x[:-1])\n",
    "print(x[::-1])"
   ]
  },
  {
   "cell_type": "markdown",
   "metadata": {},
   "source": [
    "> Loops:"
   ]
  },
  {
   "cell_type": "code",
   "execution_count": 66,
   "metadata": {},
   "outputs": [
    {
     "name": "stdout",
     "output_type": "stream",
     "text": [
      "a\n",
      "b\n",
      "c\n",
      "0 a\n",
      "1 b\n",
      "2 c\n"
     ]
    }
   ],
   "source": [
    "character = ['a', 'b', 'c']\n",
    "\n",
    "for ch in character:\n",
    "    print(ch)\n",
    "    \n",
    "for index, ch in enumerate(character):\n",
    "    print('%d %s' %(index, ch))"
   ]
  },
  {
   "cell_type": "markdown",
   "metadata": {},
   "source": [
    "> Dictionary:"
   ]
  },
  {
   "cell_type": "code",
   "execution_count": 67,
   "metadata": {},
   "outputs": [
    {
     "name": "stdout",
     "output_type": "stream",
     "text": [
      "1\n",
      "True\n"
     ]
    }
   ],
   "source": [
    "character = {'a' : 1, 'b' : 2, 'c' : 3}\n",
    "\n",
    "print(character['a'])\n",
    "print('a' in character)"
   ]
  },
  {
   "cell_type": "markdown",
   "metadata": {},
   "source": [
    "character['a'] = 20\n",
    "print(character['a'])"
   ]
  },
  {
   "cell_type": "code",
   "execution_count": 68,
   "metadata": {},
   "outputs": [
    {
     "name": "stdout",
     "output_type": "stream",
     "text": [
      "1\n",
      "2\n",
      "3\n"
     ]
    }
   ],
   "source": [
    "character = {'a' : 1, 'b' : 2, 'c' : 3}\n",
    "\n",
    "for ch in character:\n",
    "    print(character[ch])"
   ]
  },
  {
   "cell_type": "markdown",
   "metadata": {},
   "source": [
    "<font color=blue>\n",
    "### Function:"
   ]
  },
  {
   "cell_type": "code",
   "execution_count": 69,
   "metadata": {},
   "outputs": [
    {
     "name": "stdout",
     "output_type": "stream",
     "text": [
      "x < y\n"
     ]
    }
   ],
   "source": [
    "def compare(x, y):\n",
    "    if(x > y):\n",
    "        return 'x > y'\n",
    "    elif(x < y):\n",
    "        return 'x < y'\n",
    "    else:\n",
    "        return 'x = y'\n",
    "print(compare(1, 5))"
   ]
  },
  {
   "cell_type": "code",
   "execution_count": 70,
   "metadata": {
    "scrolled": true
   },
   "outputs": [
    {
     "name": "stdout",
     "output_type": "stream",
     "text": [
      "Tom\n",
      "Hi Ben\n"
     ]
    }
   ],
   "source": [
    "def sayhi(name, hi = False):\n",
    "    if(hi):\n",
    "        print('Hi %s' %(name))\n",
    "    else:\n",
    "        print('%s' %(name))\n",
    "\n",
    "sayhi('Tom')\n",
    "sayhi('Ben', hi = True)"
   ]
  },
  {
   "cell_type": "markdown",
   "metadata": {},
   "source": [
    "\n",
    "---"
   ]
  },
  {
   "cell_type": "markdown",
   "metadata": {},
   "source": [
    "## I/O in python"
   ]
  },
  {
   "cell_type": "markdown",
   "metadata": {},
   "source": [
    "<font color = blue>\n",
    "### Create a file"
   ]
  },
  {
   "cell_type": "markdown",
   "metadata": {},
   "source": [
    "\n",
    "First, open the file with\n",
    "1. ```open(FILE, 'w+')```: 'w' means write, '+' means it will create a file if it doesn't exist yet.  \n",
    "2. ```open(FIle, 'a+')```: 'a' means that it will append new text into the existing file.  \n",
    "\n",
    "Then use ```write()``` to write something into the file."
   ]
  },
  {
   "cell_type": "code",
   "execution_count": 71,
   "metadata": {},
   "outputs": [],
   "source": [
    "f = open('newFile.txt', 'w+')\n",
    "for i in range(5):\n",
    "    f.write('Line #%d\\n' % i)\n",
    "f.close()"
   ]
  },
  {
   "cell_type": "markdown",
   "metadata": {},
   "source": [
    "<font color = blue>\n",
    "### Read a file"
   ]
  },
  {
   "cell_type": "markdown",
   "metadata": {},
   "source": [
    "\n",
    "First, use ```open(FILE, 'r')``` to open the file with read mode, then  \n",
    "1. ```f.read()``` to read the whole file.  \n",
    "2. ```f.readlines()``` to read the file into a list whose element is a line of the file.\n",
    "\n",
    "> To deal with files with commonly used file formats, we can utilize some off-the-shelf package like [pandas](https://pandas.pydata.org/pandas-docs/stable/index.html).  \n",
    "[Here](https://pandas.pydata.org/pandas-docs/stable/io.html) is a list for functions w.r.t. each format."
   ]
  },
  {
   "cell_type": "code",
   "execution_count": 81,
   "metadata": {},
   "outputs": [],
   "source": [
    "# 'r' means read\n",
    "f = open('newFile.txt', 'r')\n",
    "content = f.read()\n",
    "# Reset the offset to 0 (re-read the file)\n",
    "f.seek(0)\n",
    "lines = f.readlines()\n",
    "f.close()"
   ]
  },
  {
   "cell_type": "code",
   "execution_count": 73,
   "metadata": {},
   "outputs": [
    {
     "name": "stdout",
     "output_type": "stream",
     "text": [
      "Content (5 lines):\n",
      "Line #0\n",
      "Line #1\n",
      "Line #2\n",
      "Line #3\n",
      "Line #4\n",
      "\n"
     ]
    }
   ],
   "source": [
    "print('Content (%d lines):' % len(lines))\n",
    "print(content)"
   ]
  },
  {
   "cell_type": "markdown",
   "metadata": {},
   "source": [
    "## Audio I/O"
   ]
  },
  {
   "cell_type": "markdown",
   "metadata": {},
   "source": [
    "<font color = blue>\n",
    "### pyaudio installation\n",
    "<br>  \n",
    "<font color = black>\n",
    "For <i>mac</i>:  \n",
    "    \n",
    "```\n",
    "$ brew install portaudio \n",
    "$ pip install pyaudio\n",
    "```   \n",
    "For <i>windows</i>:\n",
    "``` \n",
    "$ python -m pip install pyaudio\n",
    "```\n",
    "For other systems, please check pyaudio's [doc](https://people.csail.mit.edu/hubert/pyaudio/)."
   ]
  },
  {
   "cell_type": "markdown",
   "metadata": {},
   "source": [
    "<font color = blue>\n",
    "### Record sound"
   ]
  },
  {
   "cell_type": "code",
   "execution_count": 101,
   "metadata": {},
   "outputs": [],
   "source": [
    "import pyaudio\n",
    "import wave\n",
    "\n",
    "def record(fileName, duration, silence=False, rate=44100, channels=2, chunk=1024, format=pyaudio.paInt16):\n",
    "    p = pyaudio.PyAudio()\n",
    "    stream = p.open(format=format, channels=channels, \n",
    "                    rate=rate, input=True, frames_per_buffer=chunk)\n",
    "    if not silence:\n",
    "        print('* Start recording')\n",
    "    frames = []\n",
    "    for i in range(int(rate / chunk * duration)):\n",
    "        data = stream.read(chunk)\n",
    "        frames.append(data)\n",
    "    if not silence:\n",
    "        print(\"* Done recording\")\n",
    "    stream.stop_stream()\n",
    "    stream.close()\n",
    "    # output\n",
    "    wf = wave.open(fileName, 'wb')\n",
    "    wf.setnchannels(channels)\n",
    "    wf.setsampwidth(p.get_sample_size(format))\n",
    "    wf.setframerate(rate)\n",
    "    wf.writeframes(b''.join(frames))\n",
    "    wf.close()\n",
    "    p.terminate()"
   ]
  },
  {
   "cell_type": "markdown",
   "metadata": {},
   "source": [
    "<font color = blue>\n",
    "### Play sound"
   ]
  },
  {
   "cell_type": "code",
   "execution_count": null,
   "metadata": {},
   "outputs": [],
   "source": [
    "def play(fileName, chunk=1024):\n",
    "    wf = wave.open(fileName, 'rb')\n",
    "    p = pyaudio.PyAudio()\n",
    "    stream = p.open(format=p.get_format_from_width(wf.getsampwidth()),\n",
    "                channels=wf.getnchannels(),\n",
    "                rate=wf.getframerate(),\n",
    "                output=True)\n",
    "    data = wf.readframes(chunk)\n",
    "    while data != b'':\n",
    "        stream.write(data)\n",
    "        data = wf.readframes(chunk)\n",
    "        \n",
    "    stream.stop_stream()\n",
    "    stream.close()\n",
    "    p.terminate()"
   ]
  },
  {
   "cell_type": "code",
   "execution_count": null,
   "metadata": {},
   "outputs": [],
   "source": [
    "record('sound.wav', duration=5)"
   ]
  },
  {
   "cell_type": "code",
   "execution_count": null,
   "metadata": {
    "scrolled": true
   },
   "outputs": [],
   "source": [
    "play('sound.wav')"
   ]
  },
  {
   "cell_type": "markdown",
   "metadata": {},
   "source": [
    "### Read .wav file into numpy array"
   ]
  },
  {
   "cell_type": "code",
   "execution_count": null,
   "metadata": {},
   "outputs": [],
   "source": [
    "from scipy.io.wavfile import read\n",
    "\n",
    "fs, data = read('sound.wav')\n",
    "print('Type of data:', type(data))\n",
    "print('Sampling rate: %.1f' % fs)\n",
    "print('Duration: %.2f' % (len(data) / fs))"
   ]
  },
  {
   "cell_type": "markdown",
   "metadata": {},
   "source": [
    "---\n",
    "## 2D plots in python\n",
    "In this part we will introduce a powerful library Matplotlib for making 2D plots of arrays in Python.  "
   ]
  },
  {
   "cell_type": "markdown",
   "metadata": {},
   "source": [
    "<center><img src='matplotlib.png' width='60%' /></center>"
   ]
  },
  {
   "cell_type": "markdown",
   "metadata": {},
   "source": [
    "<font color = blue>\n",
    "### Matplotlib installation\n",
    "<br>\n",
    "<font color = black>\n",
    "For <i>mac</i>:\n",
    "```\n",
    "$ pip install matplotlib\n",
    "\n",
    "``` \n",
    "For <i>windows</i>:\n",
    "```\n",
    "$ pip install -U pip\n",
    "$ pip install -U matplotlib\n",
    "``` "
   ]
  },
  {
   "cell_type": "markdown",
   "metadata": {},
   "source": [
    "<font color = blue>\n",
    "### Some examples\n",
    "<br>\n",
    "<font color = black>\n",
    "You can find more styles of plots in [Matplotlib_examples](https://matplotlib.org/gallery/index.html)."
   ]
  },
  {
   "cell_type": "code",
   "execution_count": 87,
   "metadata": {},
   "outputs": [
    {
     "data": {
      "image/png": "[encoded data removed]",
      "text/plain": [
       "<Figure size 432x288 with 1 Axes>"
      ]
     },
     "metadata": {},
     "output_type": "display_data"
    }
   ],
   "source": [
    "# First, import matplotlib.pyplot which covers various of functions you need.\n",
    "import matplotlib.pyplot as plt\n",
    "# Define an array\n",
    "x = [1, 2, 3, 2, 0, 5]\n",
    "# plot\n",
    "plt.plot(x)\n",
    "# add x label and y label\n",
    "plt.ylabel('numbers')\n",
    "plt.xlabel('index')\n",
    "# remember to add .show() or it will only show [<matplotlib.lines.Line2D at XXXXXXX>]\n",
    "plt.show()"
   ]
  },
  {
   "cell_type": "code",
   "execution_count": 86,
   "metadata": {},
   "outputs": [
    {
     "data": {
      "text/plain": [
       "Text(0.5,1,'Hi')"
      ]
     },
     "execution_count": 86,
     "metadata": {},
     "output_type": "execute_result"
    },
    {
     "data": {
      "image/png": "[encoded data removed]",
      "text/plain": [
       "<Figure size 864x576 with 1 Axes>"
      ]
     },
     "metadata": {},
     "output_type": "display_data"
    }
   ],
   "source": [
    "# If you don't want to add .show() everytime, you can add %matplotlib inline then you don't need to add .show() anymore\n",
    "%matplotlib inline\n",
    "# adjust the size\n",
    "plt.figure(figsize=(12,8))\n",
    "# change plotting style, you can also try 's', '-', 'o', '^', '*', 'b-', 'g^'\n",
    "plt.plot(x, 'go')\n",
    "# adjust fontsize\n",
    "plt.xlabel('index', fontsize=25)\n",
    "# label in latex format\n",
    "plt.ylabel(r'$\\hat{\\sigma}$', fontsize=25)\n",
    "# add title\n",
    "plt.title('Hi', fontsize=25)"
   ]
  },
  {
   "cell_type": "markdown",
   "metadata": {},
   "source": [
    "\n",
    "Change the style of plot"
   ]
  },
  {
   "cell_type": "code",
   "execution_count": 95,
   "metadata": {},
   "outputs": [],
   "source": [
    "plt.style.use('ggplot')"
   ]
  },
  {
   "cell_type": "markdown",
   "metadata": {},
   "source": [
    "<center><img src='style.png' width='60%' /></center>"
   ]
  },
  {
   "cell_type": "markdown",
   "metadata": {},
   "source": [
    "Using subplot to plot figures in given configuration:"
   ]
  },
  {
   "cell_type": "code",
   "execution_count": 90,
   "metadata": {},
   "outputs": [
    {
     "data": {
      "image/png": "[encoded data removed]",
      "text/plain": [
       "<Figure size 648x216 with 3 Axes>"
      ]
     },
     "metadata": {},
     "output_type": "display_data"
    }
   ],
   "source": [
    "names = ['group_a', 'group_b', 'group_c']\n",
    "values = [1, 10, 100]\n",
    "\n",
    "plt.figure(1, figsize=(9, 3))\n",
    "# figure configuration: 1x3\n",
    "plt.subplot(131)\n",
    "# plot bar\n",
    "plt.bar(names, values)\n",
    "plt.subplot(132)\n",
    "# scatter plot\n",
    "plt.scatter(names, values)\n",
    "plt.subplot(133)\n",
    "plt.plot(names, values)\n",
    "plt.suptitle('Categorical Plotting')\n",
    "# save imgage if you want\n",
    "plt.savefig('example')"
   ]
  },
  {
   "cell_type": "markdown",
   "metadata": {},
   "source": [
    "\n",
    "Let's plot audio frames:"
   ]
  },
  {
   "cell_type": "code",
   "execution_count": 98,
   "metadata": {},
   "outputs": [
    {
     "name": "stdout",
     "output_type": "stream",
     "text": [
      "Sampling (frame) rate =  16000\n",
      "Total samples (frames) =  (41351,)\n",
      "[-12  -1   0 ...  29 233 278]\n"
     ]
    }
   ],
   "source": [
    "# load audio data w/ scipy\n",
    "# Using scipy\n",
    "from scipy.io import wavfile\n",
    "rate, data = wavfile.read('1.wav')\n",
    "print(\"Sampling (frame) rate = \", rate)\n",
    "print(\"Total samples (frames) = \", data.shape)\n",
    "print(data)"
   ]
  },
  {
   "cell_type": "code",
   "execution_count": 99,
   "metadata": {},
   "outputs": [
    {
     "data": {
      "text/plain": [
       "[<matplotlib.lines.Line2D at 0x2a10a168e10>]"
      ]
     },
     "execution_count": 99,
     "metadata": {},
     "output_type": "execute_result"
    },
    {
     "data": {
      "image/png": "[encoded data removed]",
      "text/plain": [
       "<Figure size 432x288 with 1 Axes>"
      ]
     },
     "metadata": {},
     "output_type": "display_data"
    }
   ],
   "source": [
    "# plot audio frames\n",
    "plt.plot(data, 'r-', )"
   ]
  },
  {
   "cell_type": "markdown",
   "metadata": {},
   "source": [
    "\n",
    "Plot MFCC"
   ]
  },
  {
   "cell_type": "code",
   "execution_count": 100,
   "metadata": {},
   "outputs": [
    {
     "data": {
      "image/png": "[encoded data removed]",
      "text/plain": [
       "<Figure size 432x288 with 1 Axes>"
      ]
     },
     "metadata": {},
     "output_type": "display_data"
    }
   ],
   "source": [
    "import librosa\n",
    "import numpy as np\n",
    "data = [float(i) for i in data]\n",
    "data = np.array(data)\n",
    "mfcc = librosa.feature.mfcc(data, sr = rate, n_mfcc=40)\n",
    "plt.imshow(mfcc, cmap='hot', interpolation='nearest');"
   ]
  },
  {
   "cell_type": "markdown",
   "metadata": {},
   "source": [
    "## Implementation of FFT and STFT"
   ]
  },
  {
   "cell_type": "markdown",
   "metadata": {},
   "source": [
    "Click here for FFT ans STFT examples!"
   ]
  },
  {
   "cell_type": "code",
   "execution_count": null,
   "metadata": {},
   "outputs": [],
   "source": []
  }
 ],
 "metadata": {
  "kernelspec": {
   "display_name": "Python 3",
   "language": "python",
   "name": "python3"
  },
  "language_info": {
   "codemirror_mode": {
    "name": "ipython",
    "version": 3
   },
   "file_extension": ".py",
   "mimetype": "text/x-python",
   "name": "python",
   "nbconvert_exporter": "python",
   "pygments_lexer": "ipython3",
   "version": "3.6.5"
  }
 },
 "nbformat": 4,
 "nbformat_minor": 2
}
